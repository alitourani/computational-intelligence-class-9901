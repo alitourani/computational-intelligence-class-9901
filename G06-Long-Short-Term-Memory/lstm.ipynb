{
 "cells": [
  {
   "cell_type": "markdown",
   "metadata": {},
   "source": [
    "# Predicting blood's geloucos level using LSTM network"
   ]
  },
  {
   "cell_type": "markdown",
   "metadata": {},
   "source": [
    "## Project Members\n",
    "* Amir Mohammad Fallah (970122680014)"
   ]
  },
  {
   "cell_type": "markdown",
   "metadata": {},
   "source": [
    "### Including requirements"
   ]
  },
  {
   "cell_type": "code",
   "execution_count": 2,
   "metadata": {},
   "outputs": [
    {
     "name": "stderr",
     "output_type": "stream",
     "text": [
      "Using TensorFlow backend.\n"
     ]
    }
   ],
   "source": [
    "from math import sqrt\n",
    "from numpy import concatenate\n",
    "import numpy as np\n",
    "from matplotlib import pyplot\n",
    "from pandas import read_csv\n",
    "from pandas import DataFrame\n",
    "from pandas import concat\n",
    "from sklearn.preprocessing import MinMaxScaler\n",
    "from sklearn.preprocessing import LabelEncoder\n",
    "from sklearn.metrics import mean_squared_error\n",
    "from keras.models import Sequential\n",
    "from keras.layers import Dense, Dropout\n",
    "from keras.layers import LSTM\n",
    "import pandas as pd \n",
    "import io\n",
    "import os"
   ]
  },
  {
   "cell_type": "markdown",
   "metadata": {},
   "source": [
    "### Converting time series to supervised problem"
   ]
  },
  {
   "cell_type": "code",
   "execution_count": 4,
   "metadata": {},
   "outputs": [],
   "source": [
    "def series_to_supervised(data, n_in=2, n_out=2, dropnan=True):\n",
    "    \"\"\"\n",
    "    Frame a time series as a supervised learning dataset.\n",
    "    Arguments:\n",
    "        data: Sequence of observations as a list or NumPy array.\n",
    "        n_in: Number of lag observations as input (X).\n",
    "        n_out: Number of observations as output (y).\n",
    "        dropnan: Boolean whether or not to drop rows with NaN values.\n",
    "    Returns:\n",
    "        Pandas DataFrame of series framed for supervised learning.\n",
    "    \"\"\"\n",
    "    n_vars = 1 if type(data) is list else data.shape[1]\n",
    "    df = DataFrame(data)\n",
    "    cols, names = list(), list()\n",
    "    # input sequence (t-n, ... t-1)\n",
    "    for i in range(n_in, 0, -1):\n",
    "        cols.append(df.shift(i))\n",
    "        names += [('var%d(t-%d)' % (j+1, i)) for j in range(n_vars)]\n",
    "    # forecast sequence (t, t+1, ... t+n)\n",
    "    for i in range(0, n_out):\n",
    "        cols.append(df.shift(-i))\n",
    "        if i == 0:\n",
    "            names += [('var%d(t)' % (j+1)) for j in range(n_vars)]\n",
    "        else:\n",
    "            names += [('var%d(t+%d)' % (j+1, i)) for j in range(n_vars)]\n",
    "    # put it all together\n",
    "    agg = concat(cols, axis=1)\n",
    "    agg.columns = names\n",
    "    # drop rows with NaN values\n",
    "    if dropnan:\n",
    "        agg.dropna(inplace=True)\n",
    "    return agg"
   ]
  },
  {
   "cell_type": "markdown",
   "metadata": {},
   "source": [
    "### Loading dataset into pandas dataframe"
   ]
  },
  {
   "cell_type": "code",
   "execution_count": 50,
   "metadata": {},
   "outputs": [],
   "source": [
    "dataframe = pd.read_csv('dataset/data.csv')\n",
    "# drop missing data\n",
    "dataframe = dataframe.dropna()\n",
    "dataframe = dataframe.drop(\"PtID\",axis=1)\n",
    "values = dataframe.values\n",
    "values = values.astype('float32')"
   ]
  },
  {
   "cell_type": "markdown",
   "metadata": {},
   "source": [
    "### Scaling geloucos data range of 0 to 1"
   ]
  },
  {
   "cell_type": "code",
   "execution_count": 66,
   "metadata": {},
   "outputs": [],
   "source": [
    "scaler = MinMaxScaler(feature_range=(0, 1))\n",
    "scaledContinues = scaler.fit_transform(dataframe[[\"Glucose\"]])\n",
    "reframed = series_to_supervised(scaledContinues,1,1)\n"
   ]
  },
  {
   "cell_type": "markdown",
   "metadata": {},
   "source": [
    "### Split dataset into train, validation and test sets"
   ]
  },
  {
   "cell_type": "code",
   "execution_count": 83,
   "metadata": {},
   "outputs": [],
   "source": [
    "values = reframed.values\n",
    "n_train_len = int(len(values) * 0.7)\n",
    "n_val_len = int(n_train_len * 0.1)\n",
    "\n",
    "\n",
    "train = values[:n_train_len, :]\n",
    "val = train[:n_val_len, :]\n",
    "test = values[n_train_len:, :]\n",
    "\n",
    "# split into input and outputs\n",
    "train_X, train_y = train[:, :-1], train[:, -1]\n",
    "val_X, val_y = val[:, :-1], val[:, -1]\n",
    "test_X, test_y = test[:, :-1], test[:, -1]"
   ]
  },
  {
   "cell_type": "markdown",
   "metadata": {},
   "source": [
    "### Reshape input to be 3D [samples, timesteps, features]"
   ]
  },
  {
   "cell_type": "code",
   "execution_count": 84,
   "metadata": {},
   "outputs": [],
   "source": [
    "train_X = train_X.reshape((train_X.shape[0], 1, train_X.shape[1]))\n",
    "val_X = val_X.reshape((val_X.shape[0], 1, val_X.shape[1]))\n",
    "test_X = test_X.reshape((test_X.shape[0], 1, test_X.shape[1]))"
   ]
  },
  {
   "cell_type": "markdown",
   "metadata": {},
   "source": [
    "### Build LSTM network"
   ]
  },
  {
   "cell_type": "code",
   "execution_count": 85,
   "metadata": {},
   "outputs": [],
   "source": [
    "model = None\n",
    "# building the model\n",
    "model = Sequential()\n",
    "model.add(LSTM(60, input_shape=(train_X.shape[1], train_X.shape[2])))\n",
    "model.add(Dense(100, activation='selu'))\n",
    "model.add(Dense(85, activation='selu'))\n",
    "model.add(Dense(15, activation='relu'))\n",
    "model.add(Dense(1 ,activation=\"linear\"))\n",
    "model.compile(loss='mean_squared_error', optimizer='adam',metrics=['accuracy'])"
   ]
  },
  {
   "cell_type": "markdown",
   "metadata": {},
   "source": [
    "### Fit network on prepared sets"
   ]
  },
  {
   "cell_type": "code",
   "execution_count": 86,
   "metadata": {},
   "outputs": [
    {
     "name": "stdout",
     "output_type": "stream",
     "text": [
      "Train on 27999 samples, validate on 2799 samples\n",
      "Epoch 1/100\n",
      " - 1s - loss: 0.0052 - accuracy: 0.0341 - val_loss: 0.0022 - val_accuracy: 0.0264\n",
      "Epoch 2/100\n",
      " - 1s - loss: 0.0019 - accuracy: 0.0342 - val_loss: 0.0022 - val_accuracy: 0.0264\n",
      "Epoch 3/100\n",
      " - 1s - loss: 0.0018 - accuracy: 0.0342 - val_loss: 0.0023 - val_accuracy: 0.0264\n",
      "Epoch 4/100\n",
      " - 1s - loss: 0.0018 - accuracy: 0.0342 - val_loss: 0.0023 - val_accuracy: 0.0264\n",
      "Epoch 5/100\n",
      " - 1s - loss: 0.0018 - accuracy: 0.0342 - val_loss: 0.0024 - val_accuracy: 0.0264\n",
      "Epoch 6/100\n",
      " - 1s - loss: 0.0018 - accuracy: 0.0342 - val_loss: 0.0023 - val_accuracy: 0.0264\n",
      "Epoch 7/100\n",
      " - 1s - loss: 0.0018 - accuracy: 0.0342 - val_loss: 0.0023 - val_accuracy: 0.0264\n",
      "Epoch 8/100\n",
      " - 1s - loss: 0.0018 - accuracy: 0.0342 - val_loss: 0.0023 - val_accuracy: 0.0264\n",
      "Epoch 9/100\n",
      " - 1s - loss: 0.0018 - accuracy: 0.0342 - val_loss: 0.0023 - val_accuracy: 0.0264\n",
      "Epoch 10/100\n",
      " - 1s - loss: 0.0018 - accuracy: 0.0342 - val_loss: 0.0023 - val_accuracy: 0.0264\n",
      "Epoch 11/100\n",
      " - 1s - loss: 0.0018 - accuracy: 0.0342 - val_loss: 0.0023 - val_accuracy: 0.0264\n",
      "Epoch 12/100\n",
      " - 1s - loss: 0.0018 - accuracy: 0.0342 - val_loss: 0.0022 - val_accuracy: 0.0264\n",
      "Epoch 13/100\n",
      " - 1s - loss: 0.0018 - accuracy: 0.0342 - val_loss: 0.0022 - val_accuracy: 0.0264\n",
      "Epoch 14/100\n",
      " - 1s - loss: 0.0018 - accuracy: 0.0342 - val_loss: 0.0022 - val_accuracy: 0.0264\n",
      "Epoch 15/100\n",
      " - 1s - loss: 0.0018 - accuracy: 0.0342 - val_loss: 0.0022 - val_accuracy: 0.0264\n",
      "Epoch 16/100\n",
      " - 1s - loss: 0.0018 - accuracy: 0.0342 - val_loss: 0.0021 - val_accuracy: 0.0264\n",
      "Epoch 17/100\n",
      " - 1s - loss: 0.0018 - accuracy: 0.0342 - val_loss: 0.0021 - val_accuracy: 0.0264\n",
      "Epoch 18/100\n",
      " - 1s - loss: 0.0018 - accuracy: 0.0342 - val_loss: 0.0021 - val_accuracy: 0.0264\n",
      "Epoch 19/100\n",
      " - 1s - loss: 0.0018 - accuracy: 0.0342 - val_loss: 0.0021 - val_accuracy: 0.0264\n",
      "Epoch 20/100\n",
      " - 1s - loss: 0.0018 - accuracy: 0.0342 - val_loss: 0.0021 - val_accuracy: 0.0264\n",
      "Epoch 21/100\n",
      " - 1s - loss: 0.0018 - accuracy: 0.0342 - val_loss: 0.0021 - val_accuracy: 0.0264\n",
      "Epoch 22/100\n",
      " - 1s - loss: 0.0018 - accuracy: 0.0342 - val_loss: 0.0021 - val_accuracy: 0.0264\n",
      "Epoch 23/100\n",
      " - 1s - loss: 0.0018 - accuracy: 0.0342 - val_loss: 0.0021 - val_accuracy: 0.0264\n",
      "Epoch 24/100\n",
      " - 1s - loss: 0.0018 - accuracy: 0.0342 - val_loss: 0.0021 - val_accuracy: 0.0264\n",
      "Epoch 25/100\n",
      " - 1s - loss: 0.0018 - accuracy: 0.0342 - val_loss: 0.0021 - val_accuracy: 0.0264\n",
      "Epoch 26/100\n",
      " - 1s - loss: 0.0018 - accuracy: 0.0342 - val_loss: 0.0021 - val_accuracy: 0.0264\n",
      "Epoch 27/100\n",
      " - 1s - loss: 0.0018 - accuracy: 0.0342 - val_loss: 0.0021 - val_accuracy: 0.0264\n",
      "Epoch 28/100\n",
      " - 1s - loss: 0.0018 - accuracy: 0.0342 - val_loss: 0.0021 - val_accuracy: 0.0264\n",
      "Epoch 29/100\n",
      " - 1s - loss: 0.0018 - accuracy: 0.0342 - val_loss: 0.0021 - val_accuracy: 0.0264\n",
      "Epoch 30/100\n",
      " - 1s - loss: 0.0018 - accuracy: 0.0342 - val_loss: 0.0021 - val_accuracy: 0.0264\n",
      "Epoch 31/100\n",
      " - 1s - loss: 0.0018 - accuracy: 0.0342 - val_loss: 0.0021 - val_accuracy: 0.0264\n",
      "Epoch 32/100\n",
      " - 1s - loss: 0.0018 - accuracy: 0.0342 - val_loss: 0.0021 - val_accuracy: 0.0264\n",
      "Epoch 33/100\n",
      " - 1s - loss: 0.0018 - accuracy: 0.0342 - val_loss: 0.0021 - val_accuracy: 0.0264\n",
      "Epoch 34/100\n",
      " - 1s - loss: 0.0018 - accuracy: 0.0342 - val_loss: 0.0021 - val_accuracy: 0.0264\n",
      "Epoch 35/100\n",
      " - 1s - loss: 0.0018 - accuracy: 0.0342 - val_loss: 0.0021 - val_accuracy: 0.0264\n",
      "Epoch 36/100\n",
      " - 1s - loss: 0.0017 - accuracy: 0.0342 - val_loss: 0.0021 - val_accuracy: 0.0264\n",
      "Epoch 37/100\n",
      " - 1s - loss: 0.0018 - accuracy: 0.0342 - val_loss: 0.0021 - val_accuracy: 0.0264\n",
      "Epoch 38/100\n",
      " - 1s - loss: 0.0017 - accuracy: 0.0342 - val_loss: 0.0021 - val_accuracy: 0.0264\n",
      "Epoch 39/100\n",
      " - 1s - loss: 0.0017 - accuracy: 0.0342 - val_loss: 0.0021 - val_accuracy: 0.0264\n",
      "Epoch 40/100\n",
      " - 1s - loss: 0.0018 - accuracy: 0.0342 - val_loss: 0.0021 - val_accuracy: 0.0264\n",
      "Epoch 41/100\n",
      " - 1s - loss: 0.0017 - accuracy: 0.0342 - val_loss: 0.0021 - val_accuracy: 0.0264\n",
      "Epoch 42/100\n",
      " - 1s - loss: 0.0017 - accuracy: 0.0342 - val_loss: 0.0021 - val_accuracy: 0.0264\n",
      "Epoch 43/100\n",
      " - 1s - loss: 0.0017 - accuracy: 0.0342 - val_loss: 0.0021 - val_accuracy: 0.0264\n",
      "Epoch 44/100\n",
      " - 1s - loss: 0.0017 - accuracy: 0.0342 - val_loss: 0.0021 - val_accuracy: 0.0264\n",
      "Epoch 45/100\n",
      " - 1s - loss: 0.0017 - accuracy: 0.0342 - val_loss: 0.0021 - val_accuracy: 0.0264\n",
      "Epoch 46/100\n",
      " - 1s - loss: 0.0017 - accuracy: 0.0342 - val_loss: 0.0021 - val_accuracy: 0.0264\n",
      "Epoch 47/100\n",
      " - 1s - loss: 0.0017 - accuracy: 0.0342 - val_loss: 0.0021 - val_accuracy: 0.0264\n",
      "Epoch 48/100\n",
      " - 1s - loss: 0.0017 - accuracy: 0.0342 - val_loss: 0.0021 - val_accuracy: 0.0264\n",
      "Epoch 49/100\n",
      " - 1s - loss: 0.0017 - accuracy: 0.0342 - val_loss: 0.0021 - val_accuracy: 0.0264\n",
      "Epoch 50/100\n",
      " - 1s - loss: 0.0017 - accuracy: 0.0342 - val_loss: 0.0021 - val_accuracy: 0.0264\n",
      "Epoch 51/100\n",
      " - 1s - loss: 0.0017 - accuracy: 0.0342 - val_loss: 0.0021 - val_accuracy: 0.0264\n",
      "Epoch 52/100\n",
      " - 1s - loss: 0.0017 - accuracy: 0.0342 - val_loss: 0.0021 - val_accuracy: 0.0264\n",
      "Epoch 53/100\n",
      " - 1s - loss: 0.0017 - accuracy: 0.0342 - val_loss: 0.0021 - val_accuracy: 0.0264\n",
      "Epoch 54/100\n",
      " - 1s - loss: 0.0017 - accuracy: 0.0342 - val_loss: 0.0021 - val_accuracy: 0.0264\n",
      "Epoch 55/100\n",
      " - 1s - loss: 0.0017 - accuracy: 0.0342 - val_loss: 0.0021 - val_accuracy: 0.0264\n",
      "Epoch 56/100\n",
      " - 1s - loss: 0.0017 - accuracy: 0.0342 - val_loss: 0.0021 - val_accuracy: 0.0264\n",
      "Epoch 57/100\n",
      " - 1s - loss: 0.0017 - accuracy: 0.0342 - val_loss: 0.0021 - val_accuracy: 0.0264\n",
      "Epoch 58/100\n",
      " - 1s - loss: 0.0017 - accuracy: 0.0342 - val_loss: 0.0021 - val_accuracy: 0.0264\n",
      "Epoch 59/100\n",
      " - 1s - loss: 0.0017 - accuracy: 0.0342 - val_loss: 0.0021 - val_accuracy: 0.0264\n",
      "Epoch 60/100\n",
      " - 1s - loss: 0.0017 - accuracy: 0.0342 - val_loss: 0.0021 - val_accuracy: 0.0264\n",
      "Epoch 61/100\n",
      " - 1s - loss: 0.0017 - accuracy: 0.0342 - val_loss: 0.0021 - val_accuracy: 0.0264\n",
      "Epoch 62/100\n",
      " - 1s - loss: 0.0017 - accuracy: 0.0342 - val_loss: 0.0021 - val_accuracy: 0.0264\n",
      "Epoch 63/100\n",
      " - 1s - loss: 0.0017 - accuracy: 0.0342 - val_loss: 0.0021 - val_accuracy: 0.0264\n",
      "Epoch 64/100\n",
      " - 1s - loss: 0.0017 - accuracy: 0.0342 - val_loss: 0.0021 - val_accuracy: 0.0264\n",
      "Epoch 65/100\n",
      " - 1s - loss: 0.0017 - accuracy: 0.0342 - val_loss: 0.0021 - val_accuracy: 0.0264\n",
      "Epoch 66/100\n",
      " - 1s - loss: 0.0017 - accuracy: 0.0342 - val_loss: 0.0021 - val_accuracy: 0.0264\n",
      "Epoch 67/100\n",
      " - 1s - loss: 0.0017 - accuracy: 0.0342 - val_loss: 0.0021 - val_accuracy: 0.0264\n",
      "Epoch 68/100\n",
      " - 1s - loss: 0.0017 - accuracy: 0.0342 - val_loss: 0.0021 - val_accuracy: 0.0264\n",
      "Epoch 69/100\n",
      " - 1s - loss: 0.0017 - accuracy: 0.0342 - val_loss: 0.0021 - val_accuracy: 0.0264\n",
      "Epoch 70/100\n",
      " - 1s - loss: 0.0017 - accuracy: 0.0342 - val_loss: 0.0021 - val_accuracy: 0.0264\n",
      "Epoch 71/100\n",
      " - 1s - loss: 0.0017 - accuracy: 0.0342 - val_loss: 0.0021 - val_accuracy: 0.0264\n",
      "Epoch 72/100\n",
      " - 1s - loss: 0.0017 - accuracy: 0.0342 - val_loss: 0.0021 - val_accuracy: 0.0264\n",
      "Epoch 73/100\n",
      " - 1s - loss: 0.0017 - accuracy: 0.0342 - val_loss: 0.0021 - val_accuracy: 0.0264\n",
      "Epoch 74/100\n",
      " - 1s - loss: 0.0017 - accuracy: 0.0342 - val_loss: 0.0021 - val_accuracy: 0.0264\n",
      "Epoch 75/100\n",
      " - 1s - loss: 0.0017 - accuracy: 0.0342 - val_loss: 0.0021 - val_accuracy: 0.0264\n",
      "Epoch 76/100\n",
      " - 1s - loss: 0.0017 - accuracy: 0.0342 - val_loss: 0.0021 - val_accuracy: 0.0264\n",
      "Epoch 77/100\n",
      " - 1s - loss: 0.0017 - accuracy: 0.0342 - val_loss: 0.0021 - val_accuracy: 0.0264\n",
      "Epoch 78/100\n",
      " - 1s - loss: 0.0017 - accuracy: 0.0342 - val_loss: 0.0021 - val_accuracy: 0.0264\n",
      "Epoch 79/100\n",
      " - 1s - loss: 0.0017 - accuracy: 0.0342 - val_loss: 0.0021 - val_accuracy: 0.0264\n",
      "Epoch 80/100\n",
      " - 1s - loss: 0.0017 - accuracy: 0.0342 - val_loss: 0.0021 - val_accuracy: 0.0264\n",
      "Epoch 81/100\n",
      " - 1s - loss: 0.0017 - accuracy: 0.0342 - val_loss: 0.0021 - val_accuracy: 0.0264\n",
      "Epoch 82/100\n",
      " - 1s - loss: 0.0017 - accuracy: 0.0342 - val_loss: 0.0021 - val_accuracy: 0.0264\n",
      "Epoch 83/100\n",
      " - 1s - loss: 0.0017 - accuracy: 0.0342 - val_loss: 0.0021 - val_accuracy: 0.0264\n",
      "Epoch 84/100\n",
      " - 1s - loss: 0.0017 - accuracy: 0.0342 - val_loss: 0.0021 - val_accuracy: 0.0264\n",
      "Epoch 85/100\n",
      " - 1s - loss: 0.0017 - accuracy: 0.0342 - val_loss: 0.0021 - val_accuracy: 0.0264\n",
      "Epoch 86/100\n",
      " - 1s - loss: 0.0017 - accuracy: 0.0342 - val_loss: 0.0021 - val_accuracy: 0.0264\n"
     ]
    },
    {
     "name": "stdout",
     "output_type": "stream",
     "text": [
      "Epoch 87/100\n",
      " - 1s - loss: 0.0017 - accuracy: 0.0342 - val_loss: 0.0021 - val_accuracy: 0.0264\n",
      "Epoch 88/100\n",
      " - 1s - loss: 0.0017 - accuracy: 0.0342 - val_loss: 0.0021 - val_accuracy: 0.0264\n",
      "Epoch 89/100\n",
      " - 1s - loss: 0.0017 - accuracy: 0.0342 - val_loss: 0.0021 - val_accuracy: 0.0264\n",
      "Epoch 90/100\n",
      " - 1s - loss: 0.0017 - accuracy: 0.0342 - val_loss: 0.0021 - val_accuracy: 0.0264\n",
      "Epoch 91/100\n",
      " - 1s - loss: 0.0017 - accuracy: 0.0342 - val_loss: 0.0021 - val_accuracy: 0.0264\n",
      "Epoch 92/100\n",
      " - 1s - loss: 0.0017 - accuracy: 0.0342 - val_loss: 0.0021 - val_accuracy: 0.0264\n",
      "Epoch 93/100\n",
      " - 1s - loss: 0.0017 - accuracy: 0.0342 - val_loss: 0.0021 - val_accuracy: 0.0264\n",
      "Epoch 94/100\n",
      " - 1s - loss: 0.0017 - accuracy: 0.0342 - val_loss: 0.0021 - val_accuracy: 0.0264\n",
      "Epoch 95/100\n",
      " - 1s - loss: 0.0017 - accuracy: 0.0342 - val_loss: 0.0021 - val_accuracy: 0.0264\n",
      "Epoch 96/100\n",
      " - 1s - loss: 0.0017 - accuracy: 0.0342 - val_loss: 0.0021 - val_accuracy: 0.0264\n",
      "Epoch 97/100\n",
      " - 1s - loss: 0.0017 - accuracy: 0.0342 - val_loss: 0.0021 - val_accuracy: 0.0264\n",
      "Epoch 98/100\n",
      " - 1s - loss: 0.0017 - accuracy: 0.0342 - val_loss: 0.0021 - val_accuracy: 0.0264\n",
      "Epoch 99/100\n",
      " - 1s - loss: 0.0017 - accuracy: 0.0342 - val_loss: 0.0021 - val_accuracy: 0.0264\n",
      "Epoch 100/100\n",
      " - 1s - loss: 0.0017 - accuracy: 0.0342 - val_loss: 0.0021 - val_accuracy: 0.0264\n"
     ]
    }
   ],
   "source": [
    "history = model.fit(train_X, train_y, epochs=100, batch_size=72, validation_data=(val_X, val_y), verbose=2, shuffle=False)"
   ]
  },
  {
   "cell_type": "code",
   "execution_count": null,
   "metadata": {},
   "outputs": [],
   "source": []
  }
 ],
 "metadata": {
  "kernelspec": {
   "display_name": "Python 3",
   "language": "python",
   "name": "python3"
  },
  "language_info": {
   "codemirror_mode": {
    "name": "ipython",
    "version": 3
   },
   "file_extension": ".py",
   "mimetype": "text/x-python",
   "name": "python",
   "nbconvert_exporter": "python",
   "pygments_lexer": "ipython3",
   "version": "3.8.2"
  }
 },
 "nbformat": 4,
 "nbformat_minor": 4
}
