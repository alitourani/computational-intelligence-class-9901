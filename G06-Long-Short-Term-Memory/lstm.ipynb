{
 "cells": [
  {
   "cell_type": "markdown",
   "metadata": {},
   "source": [
    "# Predicting blood's geloucos level using LSTM network"
   ]
  },
  {
   "cell_type": "markdown",
   "metadata": {},
   "source": [
    "## Project Members\n",
    "* Amir Mohammad Fallah (970122680014)"
   ]
  },
  {
   "cell_type": "markdown",
   "metadata": {},
   "source": [
    "### Including requirements"
   ]
  },
  {
   "cell_type": "code",
   "execution_count": 116,
   "metadata": {},
   "outputs": [],
   "source": [
    "from math import sqrt\n",
    "from numpy import concatenate\n",
    "import numpy as np\n",
    "from matplotlib import pyplot\n",
    "from pandas import read_csv\n",
    "from pandas import DataFrame\n",
    "from pandas import concat\n",
    "from sklearn.preprocessing import MinMaxScaler\n",
    "from sklearn.preprocessing import LabelEncoder\n",
    "from sklearn.metrics import mean_squared_error\n",
    "import keras\n",
    "from keras.models import Sequential\n",
    "from keras.layers import Dense, Dropout\n",
    "from keras.layers import LSTM\n",
    "import pandas as pd \n",
    "import io\n",
    "import os"
   ]
  },
  {
   "cell_type": "markdown",
   "metadata": {},
   "source": [
    "### Converting time series to supervised problem"
   ]
  },
  {
   "cell_type": "code",
   "execution_count": 4,
   "metadata": {},
   "outputs": [],
   "source": [
    "def series_to_supervised(data, n_in=2, n_out=2, dropnan=True):\n",
    "    \"\"\"\n",
    "    Frame a time series as a supervised learning dataset.\n",
    "    Arguments:\n",
    "        data: Sequence of observations as a list or NumPy array.\n",
    "        n_in: Number of lag observations as input (X).\n",
    "        n_out: Number of observations as output (y).\n",
    "        dropnan: Boolean whether or not to drop rows with NaN values.\n",
    "    Returns:\n",
    "        Pandas DataFrame of series framed for supervised learning.\n",
    "    \"\"\"\n",
    "    n_vars = 1 if type(data) is list else data.shape[1]\n",
    "    df = DataFrame(data)\n",
    "    cols, names = list(), list()\n",
    "    # input sequence (t-n, ... t-1)\n",
    "    for i in range(n_in, 0, -1):\n",
    "        cols.append(df.shift(i))\n",
    "        names += [('var%d(t-%d)' % (j+1, i)) for j in range(n_vars)]\n",
    "    # forecast sequence (t, t+1, ... t+n)\n",
    "    for i in range(0, n_out):\n",
    "        cols.append(df.shift(-i))\n",
    "        if i == 0:\n",
    "            names += [('var%d(t)' % (j+1)) for j in range(n_vars)]\n",
    "        else:\n",
    "            names += [('var%d(t+%d)' % (j+1, i)) for j in range(n_vars)]\n",
    "    # put it all together\n",
    "    agg = concat(cols, axis=1)\n",
    "    agg.columns = names\n",
    "    # drop rows with NaN values\n",
    "    if dropnan:\n",
    "        agg.dropna(inplace=True)\n",
    "    return agg"
   ]
  },
  {
   "cell_type": "markdown",
   "metadata": {},
   "source": [
    "### Loading dataset into pandas dataframe"
   ]
  },
  {
   "cell_type": "code",
   "execution_count": 141,
   "metadata": {},
   "outputs": [],
   "source": [
    "dataframe = pd.read_csv('dataset/data.csv')\n",
    "# drop missing data\n",
    "dataframe = dataframe.dropna()\n",
    "dataframe = dataframe.drop(\"PtID\",axis=1)\n",
    "values = dataframe.values\n",
    "values = values.astype('float32')"
   ]
  },
  {
   "cell_type": "markdown",
   "metadata": {},
   "source": [
    "### Scaling geloucos data range of 0 to 1"
   ]
  },
  {
   "cell_type": "code",
   "execution_count": 142,
   "metadata": {},
   "outputs": [],
   "source": [
    "scaler = MinMaxScaler(feature_range=(0, 1))\n",
    "scaledContinues = scaler.fit_transform(dataframe[[\"Glucose\"]])\n",
    "reframed = series_to_supervised(scaledContinues,2,2)"
   ]
  },
  {
   "cell_type": "markdown",
   "metadata": {},
   "source": [
    "### Split dataset into train, validation and test sets"
   ]
  },
  {
   "cell_type": "code",
   "execution_count": 143,
   "metadata": {},
   "outputs": [],
   "source": [
    "values = reframed.values\n",
    "n_train_len = int(len(values) * 0.7)\n",
    "n_val_len = int(n_train_len * 0.1)\n",
    "\n",
    "\n",
    "train = values[:n_train_len - n_val_len, :]\n",
    "val = values[n_train_len - n_val_len:n_train_len, :]\n",
    "test = values[n_train_len:, :]\n",
    "\n",
    "# split into input and outputs\n",
    "train_X, train_y = train[:, :-1], train[:, -1]\n",
    "val_X, val_y = val[:, :-1], val[:, -1]\n",
    "test_X, test_y = test[:, :-1], test[:, -1]"
   ]
  },
  {
   "cell_type": "code",
   "execution_count": 144,
   "metadata": {},
   "outputs": [
    {
     "data": {
      "text/plain": [
       "array([[0.44475138, 0.43093923, 0.5441989 ],\n",
       "       [0.43093923, 0.5441989 , 0.47237569],\n",
       "       [0.5441989 , 0.47237569, 0.43370166],\n",
       "       ...,\n",
       "       [0.72651934, 0.75966851, 0.77071823],\n",
       "       [0.75966851, 0.77071823, 0.79558011],\n",
       "       [0.77071823, 0.79558011, 0.79834254]])"
      ]
     },
     "execution_count": 144,
     "metadata": {},
     "output_type": "execute_result"
    }
   ],
   "source": [
    "train_X"
   ]
  },
  {
   "cell_type": "markdown",
   "metadata": {},
   "source": [
    "### Reshape input to be 3D [samples, timesteps, features]"
   ]
  },
  {
   "cell_type": "code",
   "execution_count": 145,
   "metadata": {},
   "outputs": [],
   "source": [
    "train_X = train_X.reshape((train_X.shape[0], 1, train_X.shape[1]))\n",
    "val_X = val_X.reshape((val_X.shape[0], 1, val_X.shape[1]))\n",
    "test_X = test_X.reshape((test_X.shape[0], 1, test_X.shape[1]))"
   ]
  },
  {
   "cell_type": "markdown",
   "metadata": {},
   "source": [
    "### Build LSTM network"
   ]
  },
  {
   "cell_type": "code",
   "execution_count": 154,
   "metadata": {},
   "outputs": [],
   "source": [
    "optimizer = keras.optimizers.Adam(lr=0.00001)\n",
    "\n",
    "\n",
    "model = None\n",
    "# building the model\n",
    "model = Sequential()\n",
    "model.add(LSTM(60, activation='relu', input_shape=(train_X.shape[1], train_X.shape[2])))\n",
    "model.add(Dense(70, activation='relu'))\n",
    "model.add(Dense(80, activation='relu'))\n",
    "model.add(Dense(65, activation='relu'))\n",
    "model.add(Dense(15, activation='relu'))\n",
    "model.add(Dense(1 ,activation=\"linear\"))\n",
    "model.compile(loss = 'mean_absolute_error', optimizer = optimizer, metrics = ['mse'])"
   ]
  },
  {
   "cell_type": "markdown",
   "metadata": {},
   "source": [
    "### Fit network on prepared sets"
   ]
  },
  {
   "cell_type": "code",
   "execution_count": 155,
   "metadata": {},
   "outputs": [
    {
     "name": "stdout",
     "output_type": "stream",
     "text": [
      "Train on 25198 samples, validate on 2799 samples\n",
      "Epoch 1/100\n",
      "25198/25198 [==============================] - 2s 67us/step - loss: 0.3401 - mse: 0.1627 - val_loss: 0.3059 - val_mse: 0.1414\n",
      "Epoch 2/100\n",
      "25198/25198 [==============================] - 1s 45us/step - loss: 0.2146 - mse: 0.0757 - val_loss: 0.1669 - val_mse: 0.0501\n",
      "Epoch 3/100\n",
      "25198/25198 [==============================] - 1s 46us/step - loss: 0.1373 - mse: 0.0300 - val_loss: 0.1297 - val_mse: 0.0271\n",
      "Epoch 4/100\n",
      "25198/25198 [==============================] - 1s 48us/step - loss: 0.1169 - mse: 0.0205 - val_loss: 0.1121 - val_mse: 0.0193\n",
      "Epoch 5/100\n",
      "25198/25198 [==============================] - 1s 48us/step - loss: 0.0996 - mse: 0.0149 - val_loss: 0.0920 - val_mse: 0.0130\n",
      "Epoch 6/100\n",
      "25198/25198 [==============================] - 1s 47us/step - loss: 0.0776 - mse: 0.0094 - val_loss: 0.0657 - val_mse: 0.0070\n",
      "Epoch 7/100\n",
      "25198/25198 [==============================] - 1s 48us/step - loss: 0.0516 - mse: 0.0048 - val_loss: 0.0366 - val_mse: 0.0030\n",
      "Epoch 8/100\n",
      "25198/25198 [==============================] - 1s 47us/step - loss: 0.0306 - mse: 0.0027 - val_loss: 0.0237 - val_mse: 0.0022\n",
      "Epoch 9/100\n",
      "25198/25198 [==============================] - 1s 48us/step - loss: 0.0265 - mse: 0.0025 - val_loss: 0.0226 - val_mse: 0.0021\n",
      "Epoch 10/100\n",
      "25198/25198 [==============================] - 1s 48us/step - loss: 0.0255 - mse: 0.0024 - val_loss: 0.0218 - val_mse: 0.0020\n",
      "Epoch 11/100\n",
      "25198/25198 [==============================] - 1s 48us/step - loss: 0.0246 - mse: 0.0023 - val_loss: 0.0210 - val_mse: 0.0020\n",
      "Epoch 12/100\n",
      "25198/25198 [==============================] - 1s 49us/step - loss: 0.0238 - mse: 0.0022 - val_loss: 0.0203 - val_mse: 0.0019\n",
      "Epoch 13/100\n",
      "25198/25198 [==============================] - 1s 48us/step - loss: 0.0231 - mse: 0.0021 - val_loss: 0.0197 - val_mse: 0.0018\n",
      "Epoch 14/100\n",
      "25198/25198 [==============================] - 1s 48us/step - loss: 0.0225 - mse: 0.0021 - val_loss: 0.0192 - val_mse: 0.0018\n",
      "Epoch 15/100\n",
      "25198/25198 [==============================] - 1s 48us/step - loss: 0.0219 - mse: 0.0020 - val_loss: 0.0186 - val_mse: 0.0018\n",
      "Epoch 16/100\n",
      "25198/25198 [==============================] - 1s 48us/step - loss: 0.0213 - mse: 0.0020 - val_loss: 0.0182 - val_mse: 0.0017\n",
      "Epoch 17/100\n",
      "25198/25198 [==============================] - 1s 48us/step - loss: 0.0209 - mse: 0.0019 - val_loss: 0.0178 - val_mse: 0.0017\n",
      "Epoch 18/100\n",
      "25198/25198 [==============================] - 1s 49us/step - loss: 0.0204 - mse: 0.0019 - val_loss: 0.0173 - val_mse: 0.0016\n",
      "Epoch 19/100\n",
      "25198/25198 [==============================] - 1s 49us/step - loss: 0.0199 - mse: 0.0018 - val_loss: 0.0170 - val_mse: 0.0016\n",
      "Epoch 20/100\n",
      "25198/25198 [==============================] - 1s 49us/step - loss: 0.0195 - mse: 0.0018 - val_loss: 0.0165 - val_mse: 0.0016\n",
      "Epoch 21/100\n",
      "25198/25198 [==============================] - 1s 48us/step - loss: 0.0190 - mse: 0.0018 - val_loss: 0.0162 - val_mse: 0.0015\n",
      "Epoch 22/100\n",
      "25198/25198 [==============================] - 1s 49us/step - loss: 0.0185 - mse: 0.0017 - val_loss: 0.0158 - val_mse: 0.0015\n",
      "Epoch 23/100\n",
      "25198/25198 [==============================] - 1s 48us/step - loss: 0.0182 - mse: 0.0017 - val_loss: 0.0154 - val_mse: 0.0015\n",
      "Epoch 24/100\n",
      "25198/25198 [==============================] - 1s 48us/step - loss: 0.0179 - mse: 0.0017 - val_loss: 0.0152 - val_mse: 0.0015\n",
      "Epoch 25/100\n",
      "25198/25198 [==============================] - 1s 48us/step - loss: 0.0176 - mse: 0.0017 - val_loss: 0.0150 - val_mse: 0.0015\n",
      "Epoch 26/100\n",
      "25198/25198 [==============================] - 1s 48us/step - loss: 0.0174 - mse: 0.0017 - val_loss: 0.0148 - val_mse: 0.0015\n",
      "Epoch 27/100\n",
      "25198/25198 [==============================] - 1s 45us/step - loss: 0.0173 - mse: 0.0017 - val_loss: 0.0146 - val_mse: 0.0015\n",
      "Epoch 28/100\n",
      "25198/25198 [==============================] - 1s 44us/step - loss: 0.0172 - mse: 0.0017 - val_loss: 0.0145 - val_mse: 0.0014\n",
      "Epoch 29/100\n",
      "25198/25198 [==============================] - 1s 45us/step - loss: 0.0171 - mse: 0.0017 - val_loss: 0.0145 - val_mse: 0.0014\n",
      "Epoch 30/100\n",
      "25198/25198 [==============================] - 1s 45us/step - loss: 0.0170 - mse: 0.0016 - val_loss: 0.0144 - val_mse: 0.0014\n",
      "Epoch 31/100\n",
      "25198/25198 [==============================] - 1s 47us/step - loss: 0.0169 - mse: 0.0016 - val_loss: 0.0144 - val_mse: 0.0014\n",
      "Epoch 32/100\n",
      "25198/25198 [==============================] - 1s 45us/step - loss: 0.0169 - mse: 0.0016 - val_loss: 0.0143 - val_mse: 0.0014\n",
      "Epoch 33/100\n",
      "25198/25198 [==============================] - 1s 45us/step - loss: 0.0168 - mse: 0.0016 - val_loss: 0.0143 - val_mse: 0.0014\n",
      "Epoch 34/100\n",
      "25198/25198 [==============================] - 1s 47us/step - loss: 0.0168 - mse: 0.0016 - val_loss: 0.0142 - val_mse: 0.0014\n",
      "Epoch 35/100\n",
      "25198/25198 [==============================] - 1s 47us/step - loss: 0.0168 - mse: 0.0016 - val_loss: 0.0142 - val_mse: 0.0014\n",
      "Epoch 36/100\n",
      "25198/25198 [==============================] - 1s 47us/step - loss: 0.0167 - mse: 0.0016 - val_loss: 0.0142 - val_mse: 0.0014\n",
      "Epoch 37/100\n",
      "25198/25198 [==============================] - 1s 48us/step - loss: 0.0167 - mse: 0.0016 - val_loss: 0.0141 - val_mse: 0.0014\n",
      "Epoch 38/100\n",
      "25198/25198 [==============================] - 1s 47us/step - loss: 0.0167 - mse: 0.0016 - val_loss: 0.0141 - val_mse: 0.0014\n",
      "Epoch 39/100\n",
      "25198/25198 [==============================] - 1s 46us/step - loss: 0.0166 - mse: 0.0016 - val_loss: 0.0141 - val_mse: 0.0014\n",
      "Epoch 40/100\n",
      "25198/25198 [==============================] - 1s 47us/step - loss: 0.0166 - mse: 0.0016 - val_loss: 0.0141 - val_mse: 0.0014\n",
      "Epoch 41/100\n",
      "25198/25198 [==============================] - 1s 47us/step - loss: 0.0166 - mse: 0.0016 - val_loss: 0.0141 - val_mse: 0.0014\n",
      "Epoch 42/100\n",
      "25198/25198 [==============================] - 1s 47us/step - loss: 0.0166 - mse: 0.0016 - val_loss: 0.0141 - val_mse: 0.0014\n",
      "Epoch 43/100\n",
      "25198/25198 [==============================] - 1s 47us/step - loss: 0.0166 - mse: 0.0016 - val_loss: 0.0140 - val_mse: 0.0014\n",
      "Epoch 44/100\n",
      "25198/25198 [==============================] - 1s 47us/step - loss: 0.0165 - mse: 0.0016 - val_loss: 0.0140 - val_mse: 0.0014\n",
      "Epoch 45/100\n",
      "25198/25198 [==============================] - 1s 48us/step - loss: 0.0165 - mse: 0.0016 - val_loss: 0.0140 - val_mse: 0.0014\n",
      "Epoch 46/100\n",
      "25198/25198 [==============================] - 1s 47us/step - loss: 0.0165 - mse: 0.0016 - val_loss: 0.0140 - val_mse: 0.0014\n",
      "Epoch 47/100\n",
      "25198/25198 [==============================] - 1s 47us/step - loss: 0.0165 - mse: 0.0016 - val_loss: 0.0140 - val_mse: 0.0014\n",
      "Epoch 48/100\n",
      "25198/25198 [==============================] - 1s 47us/step - loss: 0.0165 - mse: 0.0016 - val_loss: 0.0140 - val_mse: 0.0014\n",
      "Epoch 49/100\n",
      "25198/25198 [==============================] - 1s 47us/step - loss: 0.0165 - mse: 0.0016 - val_loss: 0.0139 - val_mse: 0.0014\n",
      "Epoch 50/100\n",
      "25198/25198 [==============================] - 1s 46us/step - loss: 0.0164 - mse: 0.0016 - val_loss: 0.0139 - val_mse: 0.0014\n",
      "Epoch 51/100\n",
      "25198/25198 [==============================] - 1s 47us/step - loss: 0.0164 - mse: 0.0016 - val_loss: 0.0139 - val_mse: 0.0014\n",
      "Epoch 52/100\n",
      "25198/25198 [==============================] - 1s 46us/step - loss: 0.0164 - mse: 0.0016 - val_loss: 0.0139 - val_mse: 0.0014\n",
      "Epoch 53/100\n",
      "25198/25198 [==============================] - 1s 46us/step - loss: 0.0164 - mse: 0.0016 - val_loss: 0.0139 - val_mse: 0.0014\n",
      "Epoch 54/100\n",
      "25198/25198 [==============================] - 1s 46us/step - loss: 0.0164 - mse: 0.0016 - val_loss: 0.0139 - val_mse: 0.0014\n",
      "Epoch 55/100\n",
      "25198/25198 [==============================] - 1s 47us/step - loss: 0.0164 - mse: 0.0016 - val_loss: 0.0139 - val_mse: 0.0014\n",
      "Epoch 56/100\n",
      "25198/25198 [==============================] - 1s 47us/step - loss: 0.0164 - mse: 0.0016 - val_loss: 0.0139 - val_mse: 0.0014\n",
      "Epoch 57/100\n",
      "25198/25198 [==============================] - 1s 46us/step - loss: 0.0163 - mse: 0.0016 - val_loss: 0.0139 - val_mse: 0.0014\n",
      "Epoch 58/100\n",
      "25198/25198 [==============================] - 1s 47us/step - loss: 0.0163 - mse: 0.0016 - val_loss: 0.0138 - val_mse: 0.0014\n",
      "Epoch 59/100\n"
     ]
    },
    {
     "name": "stdout",
     "output_type": "stream",
     "text": [
      "25198/25198 [==============================] - 1s 45us/step - loss: 0.0163 - mse: 0.0016 - val_loss: 0.0138 - val_mse: 0.0014\n",
      "Epoch 60/100\n",
      "25198/25198 [==============================] - 1s 45us/step - loss: 0.0163 - mse: 0.0016 - val_loss: 0.0138 - val_mse: 0.0014\n",
      "Epoch 61/100\n",
      "25198/25198 [==============================] - 1s 45us/step - loss: 0.0163 - mse: 0.0016 - val_loss: 0.0138 - val_mse: 0.0014\n",
      "Epoch 62/100\n",
      "25198/25198 [==============================] - 1s 45us/step - loss: 0.0163 - mse: 0.0016 - val_loss: 0.0138 - val_mse: 0.0014\n",
      "Epoch 63/100\n",
      "25198/25198 [==============================] - 1s 45us/step - loss: 0.0163 - mse: 0.0016 - val_loss: 0.0138 - val_mse: 0.0014\n",
      "Epoch 64/100\n",
      "25198/25198 [==============================] - 1s 45us/step - loss: 0.0163 - mse: 0.0016 - val_loss: 0.0138 - val_mse: 0.0014\n",
      "Epoch 65/100\n",
      "25198/25198 [==============================] - 1s 46us/step - loss: 0.0163 - mse: 0.0016 - val_loss: 0.0138 - val_mse: 0.0014\n",
      "Epoch 66/100\n",
      "25198/25198 [==============================] - 1s 47us/step - loss: 0.0162 - mse: 0.0016 - val_loss: 0.0138 - val_mse: 0.0014\n",
      "Epoch 67/100\n",
      "25198/25198 [==============================] - 1s 46us/step - loss: 0.0162 - mse: 0.0016 - val_loss: 0.0138 - val_mse: 0.0014\n",
      "Epoch 68/100\n",
      "25198/25198 [==============================] - 1s 45us/step - loss: 0.0162 - mse: 0.0016 - val_loss: 0.0137 - val_mse: 0.0014\n",
      "Epoch 69/100\n",
      "25198/25198 [==============================] - 1s 47us/step - loss: 0.0162 - mse: 0.0016 - val_loss: 0.0137 - val_mse: 0.0014\n",
      "Epoch 70/100\n",
      "25198/25198 [==============================] - 1s 49us/step - loss: 0.0162 - mse: 0.0016 - val_loss: 0.0137 - val_mse: 0.0014\n",
      "Epoch 71/100\n",
      "25198/25198 [==============================] - 1s 46us/step - loss: 0.0162 - mse: 0.0016 - val_loss: 0.0137 - val_mse: 0.0014\n",
      "Epoch 72/100\n",
      "25198/25198 [==============================] - 1s 45us/step - loss: 0.0162 - mse: 0.0016 - val_loss: 0.0137 - val_mse: 0.0014\n",
      "Epoch 73/100\n",
      "25198/25198 [==============================] - 1s 46us/step - loss: 0.0162 - mse: 0.0016 - val_loss: 0.0137 - val_mse: 0.0014\n",
      "Epoch 74/100\n",
      "25198/25198 [==============================] - 1s 45us/step - loss: 0.0162 - mse: 0.0016 - val_loss: 0.0137 - val_mse: 0.0014\n",
      "Epoch 75/100\n",
      "25198/25198 [==============================] - 1s 45us/step - loss: 0.0161 - mse: 0.0016 - val_loss: 0.0137 - val_mse: 0.0014\n",
      "Epoch 76/100\n",
      "25198/25198 [==============================] - 1s 45us/step - loss: 0.0161 - mse: 0.0016 - val_loss: 0.0137 - val_mse: 0.0014\n",
      "Epoch 77/100\n",
      "25198/25198 [==============================] - 1s 47us/step - loss: 0.0161 - mse: 0.0016 - val_loss: 0.0137 - val_mse: 0.0014\n",
      "Epoch 78/100\n",
      "25198/25198 [==============================] - 1s 48us/step - loss: 0.0161 - mse: 0.0016 - val_loss: 0.0137 - val_mse: 0.0014\n",
      "Epoch 79/100\n",
      "25198/25198 [==============================] - 1s 48us/step - loss: 0.0161 - mse: 0.0016 - val_loss: 0.0137 - val_mse: 0.0014\n",
      "Epoch 80/100\n",
      "25198/25198 [==============================] - 1s 48us/step - loss: 0.0161 - mse: 0.0016 - val_loss: 0.0137 - val_mse: 0.0014\n",
      "Epoch 81/100\n",
      "25198/25198 [==============================] - 1s 46us/step - loss: 0.0161 - mse: 0.0016 - val_loss: 0.0137 - val_mse: 0.0014\n",
      "Epoch 82/100\n",
      "25198/25198 [==============================] - 1s 45us/step - loss: 0.0161 - mse: 0.0016 - val_loss: 0.0137 - val_mse: 0.0014\n",
      "Epoch 83/100\n",
      "25198/25198 [==============================] - 1s 45us/step - loss: 0.0161 - mse: 0.0016 - val_loss: 0.0136 - val_mse: 0.0014\n",
      "Epoch 84/100\n",
      "25198/25198 [==============================] - 1s 44us/step - loss: 0.0161 - mse: 0.0016 - val_loss: 0.0136 - val_mse: 0.0014\n",
      "Epoch 85/100\n",
      "25198/25198 [==============================] - 1s 44us/step - loss: 0.0161 - mse: 0.0016 - val_loss: 0.0137 - val_mse: 0.0014\n",
      "Epoch 86/100\n",
      "25198/25198 [==============================] - 1s 45us/step - loss: 0.0161 - mse: 0.0016 - val_loss: 0.0136 - val_mse: 0.0014\n",
      "Epoch 87/100\n",
      "25198/25198 [==============================] - 1s 45us/step - loss: 0.0161 - mse: 0.0016 - val_loss: 0.0137 - val_mse: 0.0014\n",
      "Epoch 88/100\n",
      "25198/25198 [==============================] - 1s 47us/step - loss: 0.0161 - mse: 0.0016 - val_loss: 0.0136 - val_mse: 0.0014\n",
      "Epoch 89/100\n",
      "25198/25198 [==============================] - 1s 48us/step - loss: 0.0161 - mse: 0.0016 - val_loss: 0.0137 - val_mse: 0.0014\n",
      "Epoch 90/100\n",
      "25198/25198 [==============================] - 1s 47us/step - loss: 0.0161 - mse: 0.0016 - val_loss: 0.0136 - val_mse: 0.0014\n",
      "Epoch 91/100\n",
      "25198/25198 [==============================] - 1s 46us/step - loss: 0.0161 - mse: 0.0016 - val_loss: 0.0137 - val_mse: 0.0014\n",
      "Epoch 92/100\n",
      "25198/25198 [==============================] - 1s 45us/step - loss: 0.0161 - mse: 0.0016 - val_loss: 0.0137 - val_mse: 0.0014\n",
      "Epoch 93/100\n",
      "25198/25198 [==============================] - 1s 45us/step - loss: 0.0161 - mse: 0.0016 - val_loss: 0.0138 - val_mse: 0.0014\n",
      "Epoch 94/100\n",
      "25198/25198 [==============================] - 1s 46us/step - loss: 0.0161 - mse: 0.0016 - val_loss: 0.0137 - val_mse: 0.0014\n",
      "Epoch 95/100\n",
      "25198/25198 [==============================] - 1s 46us/step - loss: 0.0161 - mse: 0.0016 - val_loss: 0.0137 - val_mse: 0.0014\n",
      "Epoch 96/100\n",
      "25198/25198 [==============================] - 1s 47us/step - loss: 0.0161 - mse: 0.0016 - val_loss: 0.0139 - val_mse: 0.0014\n",
      "Epoch 97/100\n",
      "25198/25198 [==============================] - 1s 46us/step - loss: 0.0161 - mse: 0.0016 - val_loss: 0.0138 - val_mse: 0.0014\n",
      "Epoch 98/100\n",
      "25198/25198 [==============================] - 1s 47us/step - loss: 0.0160 - mse: 0.0016 - val_loss: 0.0137 - val_mse: 0.0014\n",
      "Epoch 99/100\n",
      "25198/25198 [==============================] - 1s 48us/step - loss: 0.0160 - mse: 0.0016 - val_loss: 0.0137 - val_mse: 0.0014\n",
      "Epoch 100/100\n",
      "25198/25198 [==============================] - 1s 47us/step - loss: 0.0160 - mse: 0.0016 - val_loss: 0.0137 - val_mse: 0.0014\n"
     ]
    }
   ],
   "source": [
    "history = model.fit(train_X, train_y, epochs=100, validation_data=(val_X, val_y), verbose=1, shuffle=False)\n"
   ]
  },
  {
   "cell_type": "markdown",
   "metadata": {},
   "source": [
    "### Plot loss graph"
   ]
  },
  {
   "cell_type": "code",
   "execution_count": 156,
   "metadata": {},
   "outputs": [
    {
     "data": {
      "image/png": "[encoded data removed]",
      "text/plain": [
       "<Figure size 432x288 with 1 Axes>"
      ]
     },
     "metadata": {
      "needs_background": "light"
     },
     "output_type": "display_data"
    }
   ],
   "source": [
    "pyplot.title(\"\")\n",
    "pyplot.plot(history.history['loss'], label='train')\n",
    "pyplot.plot(history.history['val_loss'], label='test')\n",
    "pyplot.legend()\n",
    "pyplot.show()"
   ]
  },
  {
   "cell_type": "markdown",
   "metadata": {},
   "source": [
    "### Making predictions and evaluating model performance"
   ]
  },
  {
   "cell_type": "code",
   "execution_count": null,
   "metadata": {},
   "outputs": [],
   "source": [
    "yhat = model.predict(test_X)\n",
    "test_X = test_X.reshape((test_X.shape[0], test_X.shape[2]))\n",
    "\n",
    "# invert scaling for forecast\n",
    "inv_yhat = concatenate((yhat, test_X[:, 1:]), axis=1)\n",
    "inv_yhat = scaler.inverse_transform(inv_yhat)\n",
    "inv_yhat = inv_yhat[:,0]\n",
    "\n",
    "# invert scaling for actual\n",
    "test_y = test_y.reshape((len(test_y), 1))\n",
    "inv_y = concatenate((test_y, test_X[:, 1:]), axis=1)\n",
    "inv_y = scaler.inverse_transform(inv_y)\n",
    "inv_y = inv_y[:,0]\n",
    "# calculate RMSE\n",
    "rmse = sqrt(mean_squared_error(inv_y, inv_yhat))\n",
    "print('Test RMSE: %.3f' % rmse)"
   ]
  }
 ],
 "metadata": {
  "kernelspec": {
   "display_name": "Python 3",
   "language": "python",
   "name": "python3"
  },
  "language_info": {
   "codemirror_mode": {
    "name": "ipython",
    "version": 3
   },
   "file_extension": ".py",
   "mimetype": "text/x-python",
   "name": "python",
   "nbconvert_exporter": "python",
   "pygments_lexer": "ipython3",
   "version": "3.8.2"
  }
 },
 "nbformat": 4,
 "nbformat_minor": 4
}
